{
 "cells": [
  {
   "cell_type": "code",
   "execution_count": 1,
   "metadata": {
    "_cell_guid": "b1076dfc-b9ad-4769-8c92-a6c4dae69d19",
    "_uuid": "8f2839f25d086af736a60e9eeb907d3b93b6e0e5",
    "execution": {
     "iopub.execute_input": "2020-08-18T13:10:53.665732Z",
     "iopub.status.busy": "2020-08-18T13:10:53.665126Z",
     "iopub.status.idle": "2020-08-18T13:10:59.762360Z",
     "shell.execute_reply": "2020-08-18T13:10:59.761773Z"
    },
    "papermill": {
     "duration": 6.112103,
     "end_time": "2020-08-18T13:10:59.762486",
     "exception": false,
     "start_time": "2020-08-18T13:10:53.650383",
     "status": "completed"
    },
    "tags": []
   },
   "outputs": [
    {
     "name": "stdout",
     "output_type": "stream",
     "text": [
      "/kaggle/input/titanic/train.csv\n",
      "/kaggle/input/titanic/gender_submission.csv\n",
      "/kaggle/input/titanic/test.csv\n"
     ]
    }
   ],
   "source": [
    "# This Python 3 environment comes with many helpful analytics libraries installed\n",
    "# It is defined by the kaggle/python Docker image: https://github.com/kaggle/docker-python\n",
    "# For example, here's several helpful packages to load\n",
    "\n",
    "import numpy as np # linear algebra\n",
    "import pandas as pd # data processing, CSV file I/O (e.g. pd.read_csv)\n",
    "import tensorflow as tf\n",
    "from sklearn.model_selection import train_test_split\n",
    "from sklearn.metrics import accuracy_score\n",
    "# Input data files are available in the read-only \"../input/\" directory\n",
    "# For example, running this (by clicking run or pressing Shift+Enter) will list all files under the input directory\n",
    "\n",
    "import os\n",
    "for dirname, _, filenames in os.walk('/kaggle/input'):\n",
    "    for filename in filenames:\n",
    "        print(os.path.join(dirname, filename))\n",
    "\n",
    "# You can write up to 5GB to the current directory (/kaggle/working/) that gets preserved as output when you create a version using \"Save & Run All\" \n",
    "# You can also write temporary files to /kaggle/temp/, but they won't be saved outside of the current session"
   ]
  },
  {
   "cell_type": "code",
   "execution_count": 2,
   "metadata": {
    "execution": {
     "iopub.execute_input": "2020-08-18T13:10:59.790292Z",
     "iopub.status.busy": "2020-08-18T13:10:59.789389Z",
     "iopub.status.idle": "2020-08-18T13:10:59.824137Z",
     "shell.execute_reply": "2020-08-18T13:10:59.823621Z"
    },
    "papermill": {
     "duration": 0.053622,
     "end_time": "2020-08-18T13:10:59.824250",
     "exception": false,
     "start_time": "2020-08-18T13:10:59.770628",
     "status": "completed"
    },
    "tags": []
   },
   "outputs": [],
   "source": [
    "train_data = pd.read_csv(\"../input/titanic/train.csv\")\n",
    "test_data = pd.read_csv(\"../input/titanic/test.csv\")\n",
    "train_target = train_data['Survived']\n",
    "train_data = train_data.drop(['Name','Survived','PassengerId','Ticket','Cabin','Embarked'], axis =1)\n",
    "test_data_passengerId = test_data['PassengerId']\n",
    "test_data = test_data.drop(['Name','Ticket','PassengerId','Cabin','Embarked'], axis =1)\n",
    "train_data['Age']=train_data['Age'].fillna(train_data['Age'].mean())\n",
    "test_data['Age']=test_data['Age'].fillna(test_data['Age'].mean())\n",
    "test_data['Fare']=test_data['Fare'].fillna(test_data['Fare'].mean())\n",
    "train_data = train_data.replace({'Sex':{'male':0 , 'female': 1}})\n",
    "test_data = test_data.replace({'Sex':{'male':0 , 'female': 1}}) "
   ]
  },
  {
   "cell_type": "code",
   "execution_count": 3,
   "metadata": {
    "execution": {
     "iopub.execute_input": "2020-08-18T13:10:59.847006Z",
     "iopub.status.busy": "2020-08-18T13:10:59.844032Z",
     "iopub.status.idle": "2020-08-18T13:10:59.849615Z",
     "shell.execute_reply": "2020-08-18T13:10:59.849141Z"
    },
    "papermill": {
     "duration": 0.017889,
     "end_time": "2020-08-18T13:10:59.849712",
     "exception": false,
     "start_time": "2020-08-18T13:10:59.831823",
     "status": "completed"
    },
    "tags": []
   },
   "outputs": [],
   "source": [
    "X_train,X_test,y_train,y_test = train_test_split(train_data, train_target, test_size = 0.2, random_state = 42)"
   ]
  },
  {
   "cell_type": "markdown",
   "execution_count": null,
   "metadata": {
    "papermill": {
     "duration": 0.007337,
     "end_time": "2020-08-18T13:10:59.864940",
     "exception": false,
     "start_time": "2020-08-18T13:10:59.857603",
     "status": "completed"
    },
    "tags": []
   },
   "source": [
    "# train_data , test_data , train_target , test_data_passengerId"
   ]
  },
  {
   "cell_type": "code",
   "execution_count": 4,
   "metadata": {
    "execution": {
     "iopub.execute_input": "2020-08-18T13:10:59.889687Z",
     "iopub.status.busy": "2020-08-18T13:10:59.889098Z",
     "iopub.status.idle": "2020-08-18T13:10:59.899063Z",
     "shell.execute_reply": "2020-08-18T13:10:59.899519Z"
    },
    "papermill": {
     "duration": 0.027136,
     "end_time": "2020-08-18T13:10:59.899625",
     "exception": false,
     "start_time": "2020-08-18T13:10:59.872489",
     "status": "completed"
    },
    "tags": []
   },
   "outputs": [
    {
     "data": {
      "text/html": [
       "<div>\n",
       "<style scoped>\n",
       "    .dataframe tbody tr th:only-of-type {\n",
       "        vertical-align: middle;\n",
       "    }\n",
       "\n",
       "    .dataframe tbody tr th {\n",
       "        vertical-align: top;\n",
       "    }\n",
       "\n",
       "    .dataframe thead th {\n",
       "        text-align: right;\n",
       "    }\n",
       "</style>\n",
       "<table border=\"1\" class=\"dataframe\">\n",
       "  <thead>\n",
       "    <tr style=\"text-align: right;\">\n",
       "      <th></th>\n",
       "      <th>Pclass</th>\n",
       "      <th>Sex</th>\n",
       "      <th>Age</th>\n",
       "      <th>SibSp</th>\n",
       "      <th>Parch</th>\n",
       "      <th>Fare</th>\n",
       "    </tr>\n",
       "  </thead>\n",
       "  <tbody>\n",
       "    <tr>\n",
       "      <th>0</th>\n",
       "      <td>3</td>\n",
       "      <td>0</td>\n",
       "      <td>22.0</td>\n",
       "      <td>1</td>\n",
       "      <td>0</td>\n",
       "      <td>7.2500</td>\n",
       "    </tr>\n",
       "    <tr>\n",
       "      <th>1</th>\n",
       "      <td>1</td>\n",
       "      <td>1</td>\n",
       "      <td>38.0</td>\n",
       "      <td>1</td>\n",
       "      <td>0</td>\n",
       "      <td>71.2833</td>\n",
       "    </tr>\n",
       "    <tr>\n",
       "      <th>2</th>\n",
       "      <td>3</td>\n",
       "      <td>1</td>\n",
       "      <td>26.0</td>\n",
       "      <td>0</td>\n",
       "      <td>0</td>\n",
       "      <td>7.9250</td>\n",
       "    </tr>\n",
       "    <tr>\n",
       "      <th>3</th>\n",
       "      <td>1</td>\n",
       "      <td>1</td>\n",
       "      <td>35.0</td>\n",
       "      <td>1</td>\n",
       "      <td>0</td>\n",
       "      <td>53.1000</td>\n",
       "    </tr>\n",
       "    <tr>\n",
       "      <th>4</th>\n",
       "      <td>3</td>\n",
       "      <td>0</td>\n",
       "      <td>35.0</td>\n",
       "      <td>0</td>\n",
       "      <td>0</td>\n",
       "      <td>8.0500</td>\n",
       "    </tr>\n",
       "  </tbody>\n",
       "</table>\n",
       "</div>"
      ],
      "text/plain": [
       "   Pclass  Sex   Age  SibSp  Parch     Fare\n",
       "0       3    0  22.0      1      0   7.2500\n",
       "1       1    1  38.0      1      0  71.2833\n",
       "2       3    1  26.0      0      0   7.9250\n",
       "3       1    1  35.0      1      0  53.1000\n",
       "4       3    0  35.0      0      0   8.0500"
      ]
     },
     "execution_count": 4,
     "metadata": {},
     "output_type": "execute_result"
    }
   ],
   "source": [
    "train_data.head()"
   ]
  },
  {
   "cell_type": "code",
   "execution_count": 5,
   "metadata": {
    "execution": {
     "iopub.execute_input": "2020-08-18T13:10:59.925835Z",
     "iopub.status.busy": "2020-08-18T13:10:59.925260Z",
     "iopub.status.idle": "2020-08-18T13:10:59.931928Z",
     "shell.execute_reply": "2020-08-18T13:10:59.931241Z"
    },
    "papermill": {
     "duration": 0.024405,
     "end_time": "2020-08-18T13:10:59.932050",
     "exception": false,
     "start_time": "2020-08-18T13:10:59.907645",
     "status": "completed"
    },
    "tags": []
   },
   "outputs": [
    {
     "data": {
      "text/html": [
       "<div>\n",
       "<style scoped>\n",
       "    .dataframe tbody tr th:only-of-type {\n",
       "        vertical-align: middle;\n",
       "    }\n",
       "\n",
       "    .dataframe tbody tr th {\n",
       "        vertical-align: top;\n",
       "    }\n",
       "\n",
       "    .dataframe thead th {\n",
       "        text-align: right;\n",
       "    }\n",
       "</style>\n",
       "<table border=\"1\" class=\"dataframe\">\n",
       "  <thead>\n",
       "    <tr style=\"text-align: right;\">\n",
       "      <th></th>\n",
       "      <th>Pclass</th>\n",
       "      <th>Sex</th>\n",
       "      <th>Age</th>\n",
       "      <th>SibSp</th>\n",
       "      <th>Parch</th>\n",
       "      <th>Fare</th>\n",
       "    </tr>\n",
       "  </thead>\n",
       "  <tbody>\n",
       "    <tr>\n",
       "      <th>0</th>\n",
       "      <td>3</td>\n",
       "      <td>0</td>\n",
       "      <td>34.5</td>\n",
       "      <td>0</td>\n",
       "      <td>0</td>\n",
       "      <td>7.8292</td>\n",
       "    </tr>\n",
       "    <tr>\n",
       "      <th>1</th>\n",
       "      <td>3</td>\n",
       "      <td>1</td>\n",
       "      <td>47.0</td>\n",
       "      <td>1</td>\n",
       "      <td>0</td>\n",
       "      <td>7.0000</td>\n",
       "    </tr>\n",
       "    <tr>\n",
       "      <th>2</th>\n",
       "      <td>2</td>\n",
       "      <td>0</td>\n",
       "      <td>62.0</td>\n",
       "      <td>0</td>\n",
       "      <td>0</td>\n",
       "      <td>9.6875</td>\n",
       "    </tr>\n",
       "    <tr>\n",
       "      <th>3</th>\n",
       "      <td>3</td>\n",
       "      <td>0</td>\n",
       "      <td>27.0</td>\n",
       "      <td>0</td>\n",
       "      <td>0</td>\n",
       "      <td>8.6625</td>\n",
       "    </tr>\n",
       "    <tr>\n",
       "      <th>4</th>\n",
       "      <td>3</td>\n",
       "      <td>1</td>\n",
       "      <td>22.0</td>\n",
       "      <td>1</td>\n",
       "      <td>1</td>\n",
       "      <td>12.2875</td>\n",
       "    </tr>\n",
       "  </tbody>\n",
       "</table>\n",
       "</div>"
      ],
      "text/plain": [
       "   Pclass  Sex   Age  SibSp  Parch     Fare\n",
       "0       3    0  34.5      0      0   7.8292\n",
       "1       3    1  47.0      1      0   7.0000\n",
       "2       2    0  62.0      0      0   9.6875\n",
       "3       3    0  27.0      0      0   8.6625\n",
       "4       3    1  22.0      1      1  12.2875"
      ]
     },
     "execution_count": 5,
     "metadata": {},
     "output_type": "execute_result"
    }
   ],
   "source": [
    "test_data.head()"
   ]
  },
  {
   "cell_type": "code",
   "execution_count": 6,
   "metadata": {
    "execution": {
     "iopub.execute_input": "2020-08-18T13:10:59.953809Z",
     "iopub.status.busy": "2020-08-18T13:10:59.953202Z",
     "iopub.status.idle": "2020-08-18T13:10:59.958838Z",
     "shell.execute_reply": "2020-08-18T13:10:59.958286Z"
    },
    "papermill": {
     "duration": 0.018595,
     "end_time": "2020-08-18T13:10:59.958955",
     "exception": false,
     "start_time": "2020-08-18T13:10:59.940360",
     "status": "completed"
    },
    "tags": []
   },
   "outputs": [
    {
     "data": {
      "text/plain": [
       "0    0\n",
       "1    1\n",
       "2    1\n",
       "3    1\n",
       "4    0\n",
       "Name: Survived, dtype: int64"
      ]
     },
     "execution_count": 6,
     "metadata": {},
     "output_type": "execute_result"
    }
   ],
   "source": [
    "train_target.head()"
   ]
  },
  {
   "cell_type": "code",
   "execution_count": 7,
   "metadata": {
    "execution": {
     "iopub.execute_input": "2020-08-18T13:10:59.984052Z",
     "iopub.status.busy": "2020-08-18T13:10:59.982680Z",
     "iopub.status.idle": "2020-08-18T13:10:59.986139Z",
     "shell.execute_reply": "2020-08-18T13:10:59.986599Z"
    },
    "papermill": {
     "duration": 0.019304,
     "end_time": "2020-08-18T13:10:59.986705",
     "exception": false,
     "start_time": "2020-08-18T13:10:59.967401",
     "status": "completed"
    },
    "tags": []
   },
   "outputs": [
    {
     "data": {
      "text/plain": [
       "Pclass    0\n",
       "Sex       0\n",
       "Age       0\n",
       "SibSp     0\n",
       "Parch     0\n",
       "Fare      0\n",
       "dtype: int64"
      ]
     },
     "execution_count": 7,
     "metadata": {},
     "output_type": "execute_result"
    }
   ],
   "source": [
    "test_data.isnull().sum()"
   ]
  },
  {
   "cell_type": "code",
   "execution_count": 8,
   "metadata": {
    "execution": {
     "iopub.execute_input": "2020-08-18T13:11:00.010082Z",
     "iopub.status.busy": "2020-08-18T13:11:00.009390Z",
     "iopub.status.idle": "2020-08-18T13:11:00.015599Z",
     "shell.execute_reply": "2020-08-18T13:11:00.015046Z"
    },
    "papermill": {
     "duration": 0.020024,
     "end_time": "2020-08-18T13:11:00.015696",
     "exception": false,
     "start_time": "2020-08-18T13:10:59.995672",
     "status": "completed"
    },
    "tags": []
   },
   "outputs": [
    {
     "data": {
      "text/plain": [
       "Pclass    0\n",
       "Sex       0\n",
       "Age       0\n",
       "SibSp     0\n",
       "Parch     0\n",
       "Fare      0\n",
       "dtype: int64"
      ]
     },
     "execution_count": 8,
     "metadata": {},
     "output_type": "execute_result"
    }
   ],
   "source": [
    "train_data.isnull().sum()"
   ]
  },
  {
   "cell_type": "markdown",
   "execution_count": null,
   "metadata": {
    "papermill": {
     "duration": 0.008348,
     "end_time": "2020-08-18T13:11:00.032906",
     "exception": false,
     "start_time": "2020-08-18T13:11:00.024558",
     "status": "completed"
    },
    "tags": []
   },
   "source": [
    "from sklearn.ensemble import RandomForestClassifier\n",
    "rnd_clf = RandomForestClassifier(n_estimators=2000, max_leaf_nodes=200,max_features='auto', n_jobs=-1, min_samples_leaf=10,random_state =1, oob_score=True)\n",
    "rnd_clf.fit(train_data,train_target) \n",
    "print(rnd_clf.oob_score_)\n",
    "y_pred_rf = rnd_clf.predict(test_data)"
   ]
  },
  {
   "cell_type": "markdown",
   "execution_count": null,
   "metadata": {
    "papermill": {
     "duration": 0.008255,
     "end_time": "2020-08-18T13:11:00.049555",
     "exception": false,
     "start_time": "2020-08-18T13:11:00.041300",
     "status": "completed"
    },
    "tags": []
   },
   "source": [
    "from sklearn.model_selection import RandomizedSearchCV\n",
    "from sklearn.ensemble import GradientBoostingClassifier\n",
    "num_estimators = [500,1000]\n",
    "learn_rates = [0.02, 0.05]\n",
    "max_depths = [1, 2]\n",
    "min_samples_leaf = [5,10]\n",
    "min_samples_split = [5,10]\n",
    "\n",
    "param_grid = {'n_estimators': num_estimators,\n",
    "              'learning_rate': learn_rates,\n",
    "              'max_depth': max_depths,\n",
    "              'min_samples_leaf': min_samples_leaf,\n",
    "              'min_samples_split': min_samples_split}\n",
    "\n",
    "random_search = RandomizedSearchCV(GradientBoostingClassifier(loss=\"deviance\"), param_grid, random_state=1, n_iter=100, cv=5, verbose=0, n_jobs=-1)\n",
    "\n",
    "random_search.fit(train_data,train_target)\n",
    "\n",
    "random_search.best_params_"
   ]
  },
  {
   "cell_type": "markdown",
   "execution_count": null,
   "metadata": {
    "papermill": {
     "duration": 0.008119,
     "end_time": "2020-08-18T13:11:00.066211",
     "exception": false,
     "start_time": "2020-08-18T13:11:00.058092",
     "status": "completed"
    },
    "tags": []
   },
   "source": [
    "gboost_score=random_search.score(train_data,train_target)\n",
    "print(gboost_score)"
   ]
  },
  {
   "cell_type": "code",
   "execution_count": 9,
   "metadata": {
    "execution": {
     "iopub.execute_input": "2020-08-18T13:11:00.091655Z",
     "iopub.status.busy": "2020-08-18T13:11:00.090992Z",
     "iopub.status.idle": "2020-08-18T13:23:03.475021Z",
     "shell.execute_reply": "2020-08-18T13:23:03.475502Z"
    },
    "papermill": {
     "duration": 723.400696,
     "end_time": "2020-08-18T13:23:03.475656",
     "exception": false,
     "start_time": "2020-08-18T13:11:00.074960",
     "status": "completed"
    },
    "tags": []
   },
   "outputs": [
    {
     "data": {
      "text/plain": [
       "0.8435754189944135"
      ]
     },
     "execution_count": 9,
     "metadata": {},
     "output_type": "execute_result"
    }
   ],
   "source": [
    "from sklearn.model_selection import GridSearchCV\n",
    "from sklearn.ensemble import GradientBoostingClassifier\n",
    "\n",
    "num_estimators = [500,1000,1500]\n",
    "learn_rates = [0.02, 0.05,0.08,0.1]\n",
    "max_depths = [1, 2, 3]\n",
    "min_samples_leaf = [5,10,15]\n",
    "min_samples_split = [5,10,15]\n",
    "\n",
    "param_grid = {'n_estimators': num_estimators,\n",
    "              'learning_rate': learn_rates,\n",
    "              'max_depth': max_depths,\n",
    "              'min_samples_leaf': min_samples_leaf,\n",
    "              'min_samples_split': min_samples_split}\n",
    "\n",
    "grid_search = GridSearchCV(GradientBoostingClassifier(loss=\"exponential\"),\n",
    "                           param_grid, cv=3, return_train_score=True)\n",
    "grid_search = grid_search.fit(X_train,y_train)\n",
    "predictions = grid_search.predict(X_test)\n",
    "accuracy_score(y_true = y_test, y_pred = predictions)"
   ]
  },
  {
   "cell_type": "markdown",
   "execution_count": null,
   "metadata": {
    "papermill": {
     "duration": 0.008931,
     "end_time": "2020-08-18T13:23:03.493117",
     "exception": false,
     "start_time": "2020-08-18T13:23:03.484186",
     "status": "completed"
    },
    "tags": []
   },
   "source": [
    "grid_search.best_params_"
   ]
  },
  {
   "cell_type": "markdown",
   "execution_count": null,
   "metadata": {
    "papermill": {
     "duration": 0.009005,
     "end_time": "2020-08-18T13:23:03.511172",
     "exception": false,
     "start_time": "2020-08-18T13:23:03.502167",
     "status": "completed"
    },
    "tags": []
   },
   "source": [
    "grid_gboost_result = grid_search.predict(test_data)"
   ]
  },
  {
   "cell_type": "markdown",
   "execution_count": null,
   "metadata": {
    "papermill": {
     "duration": 0.008397,
     "end_time": "2020-08-18T13:23:03.528193",
     "exception": false,
     "start_time": "2020-08-18T13:23:03.519796",
     "status": "completed"
    },
    "tags": []
   },
   "source": [
    "random_gboost_result = random_search.predict(test_data)"
   ]
  },
  {
   "cell_type": "markdown",
   "execution_count": null,
   "metadata": {
    "papermill": {
     "duration": 0.008423,
     "end_time": "2020-08-18T13:23:03.545549",
     "exception": false,
     "start_time": "2020-08-18T13:23:03.537126",
     "status": "completed"
    },
    "tags": []
   },
   "source": [
    "grid_score = grid_search.score(train_data,train_target)\n",
    "print(grid_score)"
   ]
  },
  {
   "cell_type": "markdown",
   "execution_count": null,
   "metadata": {
    "papermill": {
     "duration": 0.008201,
     "end_time": "2020-08-18T13:23:03.562864",
     "exception": false,
     "start_time": "2020-08-18T13:23:03.554663",
     "status": "completed"
    },
    "tags": []
   },
   "source": [
    "output = pd.DataFrame({'PassengerId': test_data_passengerId, 'Survived': grid_gboost_resul})\n",
    "output.to_csv('my_submission_GGB.csv',index=False)"
   ]
  },
  {
   "cell_type": "markdown",
   "execution_count": null,
   "metadata": {
    "papermill": {
     "duration": 0.008309,
     "end_time": "2020-08-18T13:23:03.579959",
     "exception": false,
     "start_time": "2020-08-18T13:23:03.571650",
     "status": "completed"
    },
    "tags": []
   },
   "source": [
    "output2 = pd.DataFrame({'PassengerId': test_data_passengerId, 'Survived': random_gboost_result})\n",
    "output2.to_csv('my_submission_RGB.csv',index=False)"
   ]
  },
  {
   "cell_type": "markdown",
   "execution_count": null,
   "metadata": {
    "papermill": {
     "duration": 0.008753,
     "end_time": "2020-08-18T13:23:03.597207",
     "exception": false,
     "start_time": "2020-08-18T13:23:03.588454",
     "status": "completed"
    },
    "tags": []
   },
   "source": [
    "output3 = pd.DataFrame({'PassengerId': test_data_passengerId, 'Survived': y_pred_rf})\n",
    "output3.to_csv('my_submission_RF.csv',index=False)"
   ]
  },
  {
   "cell_type": "markdown",
   "execution_count": null,
   "metadata": {
    "papermill": {
     "duration": 0.008974,
     "end_time": "2020-08-18T13:23:03.614634",
     "exception": false,
     "start_time": "2020-08-18T13:23:03.605660",
     "status": "completed"
    },
    "tags": []
   },
   "source": [
    "output.head(10)"
   ]
  },
  {
   "cell_type": "markdown",
   "execution_count": null,
   "metadata": {
    "papermill": {
     "duration": 0.009552,
     "end_time": "2020-08-18T13:23:03.633012",
     "exception": false,
     "start_time": "2020-08-18T13:23:03.623460",
     "status": "completed"
    },
    "tags": []
   },
   "source": [
    "output3.head(10)"
   ]
  }
 ],
 "metadata": {
  "kernelspec": {
   "display_name": "Python 3",
   "language": "python",
   "name": "python3"
  },
  "language_info": {
   "codemirror_mode": {
    "name": "ipython",
    "version": 3
   },
   "file_extension": ".py",
   "mimetype": "text/x-python",
   "name": "python",
   "nbconvert_exporter": "python",
   "pygments_lexer": "ipython3",
   "version": "3.7.6"
  },
  "papermill": {
   "duration": 734.149872,
   "end_time": "2020-08-18T13:23:03.748164",
   "environment_variables": {},
   "exception": null,
   "input_path": "__notebook__.ipynb",
   "output_path": "__notebook__.ipynb",
   "parameters": {},
   "start_time": "2020-08-18T13:10:49.598292",
   "version": "2.1.0"
  }
 },
 "nbformat": 4,
 "nbformat_minor": 4
}
